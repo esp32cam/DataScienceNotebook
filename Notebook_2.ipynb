{
  "cells": [
    {
      "cell_type": "code",
      "execution_count": null,
      "metadata": {
        "id": "PikgivfwvvZ1"
      },
      "outputs": [],
      "source": [
        "#@title\n",
        "!pip install geemap"
      ]
    },
    {
      "cell_type": "code",
      "execution_count": null,
      "metadata": {
        "id": "eEJeGPT4v-1M"
      },
      "outputs": [],
      "source": [
        "import os\n",
        "import ee\n",
        "import geemap\n",
        "import ipywidgets as widgets"
      ]
    },
    {
      "cell_type": "code",
      "execution_count": null,
      "metadata": {
        "id": "Wh2GkEHKwb2z"
      },
      "outputs": [],
      "source": [
        "#@title\n",
        "Map = geemap.Map()\n",
        "Map"
      ]
    },
    {
      "cell_type": "code",
      "execution_count": null,
      "metadata": {
        "id": "2fedO1uzwlNn"
      },
      "outputs": [],
      "source": [
        "#@title\n",
        "style = {'description_width': 'initial'}\n",
        "title = widgets.Text(\n",
        "    description='Title:', value='Landsat Timelapse', width=200, style=style\n",
        ")\n",
        "\n",
        "bands = widgets.Dropdown(\n",
        "    description='Select RGB Combo:',\n",
        "    options=[\n",
        "        'Red/Green/Blue',\n",
        "        'NIR/Red/Green',\n",
        "        'SWIR2/SWIR1/NIR',\n",
        "        'NIR/SWIR1/Red',\n",
        "        'SWIR2/NIR/Red',\n",
        "        'SWIR2/SWIR1/Red',\n",
        "        'SWIR1/NIR/Blue',\n",
        "        'NIR/SWIR1/Blue',\n",
        "        'SWIR2/NIR/Green',\n",
        "        'SWIR1/NIR/Red',\n",
        "    ],\n",
        "    value='NIR/Red/Green',\n",
        "    style=style,\n",
        ")\n",
        "\n",
        "hbox1 = widgets.HBox([title, bands])\n",
        "hbox1"
      ]
    },
    {
      "cell_type": "code",
      "execution_count": null,
      "metadata": {
        "id": "BFKfHB0bwp4V"
      },
      "outputs": [],
      "source": [
        "#@title\n",
        "speed = widgets.IntSlider(\n",
        "    description='  Frames per second:',\n",
        "    tooltip='Frames per second:',\n",
        "    value=10,\n",
        "    min=1,\n",
        "    max=30,\n",
        "    style=style,\n",
        ")\n",
        "\n",
        "cloud = widgets.Checkbox(\n",
        "    value=True, description='Apply fmask (remove clouds, shadows, snow)', style=style\n",
        ")\n",
        "\n",
        "hbox2 = widgets.HBox([speed, cloud])\n",
        "hbox2"
      ]
    },
    {
      "cell_type": "code",
      "execution_count": null,
      "metadata": {
        "id": "OStbxP20wrh1"
      },
      "outputs": [],
      "source": [
        "#@title\n",
        "start_year = widgets.IntSlider(\n",
        "    description='Start Year:', value=1984, min=1984, max=2020, style=style\n",
        ")\n",
        "end_year = widgets.IntSlider(\n",
        "    description='End Year:', value=2020, min=1984, max=2020, style=style\n",
        ")\n",
        "start_month = widgets.IntSlider(\n",
        "    description='Start Month:', value=5, min=1, max=12, style=style\n",
        ")\n",
        "end_month = widgets.IntSlider(\n",
        "    description='End Month:', value=10, min=1, max=12, style=style\n",
        ")\n",
        "hbox3 = widgets.HBox([start_year, end_year, start_month, end_month])\n",
        "hbox3"
      ]
    },
    {
      "cell_type": "code",
      "execution_count": null,
      "metadata": {
        "id": "OeMX2cWFwuCh"
      },
      "outputs": [],
      "source": [
        "#@title\n",
        "font_size = widgets.IntSlider(\n",
        "    description='Font size:', value=30, min=10, max=50, style=style\n",
        ")\n",
        "\n",
        "font_color = widgets.ColorPicker(\n",
        "    concise=False, description='Font color:', value='white', style=style\n",
        ")\n",
        "\n",
        "progress_bar_color = widgets.ColorPicker(\n",
        "    concise=False, description='Progress bar color:', value='blue', style=style\n",
        ")\n",
        "\n",
        "hbox4 = widgets.HBox([font_size, font_color, progress_bar_color])\n",
        "hbox4"
      ]
    },
    {
      "cell_type": "code",
      "execution_count": null,
      "metadata": {
        "id": "EFwpCWWjHpDC"
      },
      "outputs": [],
      "source": [
        "#@title\n",
        "\n",
        "nd_options = [\n",
        "    'Vegetation Index (NDVI)',\n",
        "    'Water Index (NDWI)',\n",
        "    'Modified Water Index (MNDWI)',\n",
        "    'Snow Index (NDSI)',\n",
        "    'Soil Index (NDSI)',\n",
        "    'Burn Ratio (NBR)',\n",
        "    'Customized',\n",
        "]\n",
        "nd_indices = widgets.Dropdown(\n",
        "    options=nd_options,\n",
        "    value=None,\n",
        "    description='Normalized Difference Index:',\n",
        "    style=style,\n",
        ")\n",
        "\n",
        "first_band = widgets.Dropdown(\n",
        "    description='1st band:',\n",
        "    options=['Blue', 'Green', 'Red', 'NIR', 'SWIR1', 'SWIR2'],\n",
        "    value=None,\n",
        "    style=style,\n",
        ")\n",
        "\n",
        "second_band = widgets.Dropdown(\n",
        "    description='2nd band:',\n",
        "    options=['Blue', 'Green', 'Red', 'NIR', 'SWIR1', 'SWIR2'],\n",
        "    value=None,\n",
        "    style=style,\n",
        ")\n",
        "\n",
        "nd_threshold = widgets.FloatSlider(\n",
        "    value=0,\n",
        "    min=-1,\n",
        "    max=1,\n",
        "    step=0.01,\n",
        "    description='Threshold:',\n",
        "    orientation='horizontal',\n",
        ")\n",
        "\n",
        "nd_color = widgets.ColorPicker(\n",
        "    concise=False, description='Color:', value='blue', style=style\n",
        ")\n",
        "\n",
        "\n",
        "def nd_index_change(change):\n",
        "    if nd_indices.value == 'Vegetation Index (NDVI)':\n",
        "        first_band.value = 'NIR'\n",
        "        second_band.value = 'Red'\n",
        "    elif nd_indices.value == 'Water Index (NDWI)':\n",
        "        first_band.value = 'NIR'\n",
        "        second_band.value = 'SWIR1'\n",
        "    elif nd_indices.value == 'Modified Water Index (MNDWI)':\n",
        "        first_band.value = 'Green'\n",
        "        second_band.value = 'SWIR1'\n",
        "    elif nd_indices.value == 'Snow Index (NDSI)':\n",
        "        first_band.value = 'Green'\n",
        "        second_band.value = 'SWIR1'\n",
        "    elif nd_indices.value == 'Soil Index (NDSI)':\n",
        "        first_band.value = 'SWIR1'\n",
        "        second_band.value = 'NIR'\n",
        "    elif nd_indices.value == 'Burn Ratio (NBR)':\n",
        "        first_band.value = 'NIR'\n",
        "        second_band.value = 'SWIR2'\n",
        "    elif nd_indices.value == 'Customized':\n",
        "        first_band.value = None\n",
        "        second_band.value = None\n",
        "\n",
        "\n",
        "nd_indices.observe(nd_index_change, names='value')\n",
        "\n",
        "hbox5 = widgets.HBox([nd_indices, first_band, second_band, nd_threshold, nd_color])\n",
        "hbox5"
      ]
    },
    {
      "cell_type": "code",
      "execution_count": null,
      "metadata": {
        "id": "J5lCtu7lw4EJ"
      },
      "outputs": [],
      "source": [
        "#@title\n",
        "create_gif = widgets.Button(\n",
        "    description='Create timelapse',\n",
        "    button_style='primary',\n",
        "    tooltip='Click to create timelapse',\n",
        "    style=style,\n",
        ")\n",
        "\n",
        "download_gif = widgets.Button(\n",
        "    description='Download GIF',\n",
        "    button_style='primary',\n",
        "    tooltip='Click to download timelapse',\n",
        "    disabled=False,\n",
        "    style=style,\n",
        ")\n",
        "\n",
        "output = widgets.Output()\n",
        "\n",
        "hbox5 = widgets.HBox([create_gif])\n",
        "hbox5"
      ]
    },
    {
      "cell_type": "code",
      "execution_count": null,
      "metadata": {
        "id": "ELxq4GiJw7mN"
      },
      "outputs": [],
      "source": [
        "#@title\n",
        "def submit_clicked(b):\n",
        "\n",
        "    with output:\n",
        "        output.clear_output()\n",
        "        if start_year.value > end_year.value:\n",
        "            print('The end year must be great than the start year.')\n",
        "            return\n",
        "        if start_month.value > end_month.value:\n",
        "            print('The end month must be great than the start month.')\n",
        "            return\n",
        "        if start_year.value == end_year.value:\n",
        "            add_progress_bar = False\n",
        "        else:\n",
        "            add_progress_bar = True\n",
        "\n",
        "        start_date = str(start_month.value).zfill(2) + '-01'\n",
        "        end_date = str(end_month.value).zfill(2) + '-30'\n",
        "\n",
        "        print('Computing...')\n",
        "\n",
        "        nd_bands = None\n",
        "        if (first_band.value is not None) and (second_band.value is not None):\n",
        "            nd_bands = [first_band.value, second_band.value]\n",
        "\n",
        "        Map.add_landsat_ts_gif(\n",
        "            roi=Map.user_roi,\n",
        "            label=title.value,\n",
        "            start_year=start_year.value,\n",
        "            end_year=end_year.value,\n",
        "            start_date=start_date,\n",
        "            end_date=end_date,\n",
        "            bands=bands.value.split('/'),\n",
        "            font_color=font_color.value,\n",
        "            frames_per_second=speed.value,\n",
        "            font_size=font_size.value,\n",
        "            add_progress_bar=add_progress_bar,\n",
        "            progress_bar_color=progress_bar_color.value,\n",
        "            download=True,\n",
        "            apply_fmask=cloud.value,\n",
        "            nd_bands=nd_bands,\n",
        "            nd_threshold=nd_threshold.value,\n",
        "            nd_palette=['black', nd_color.value],\n",
        "        )\n",
        "\n",
        "\n",
        "create_gif.on_click(submit_clicked)"
      ]
    },
    {
      "cell_type": "code",
      "execution_count": null,
      "metadata": {
        "colab": {
          "background_save": true,
          "referenced_widgets": [
            "e60b84c2cb964867990fe6bfa7d09a05"
          ]
        },
        "id": "xUfo1m2Tw-Mk",
        "outputId": "c2a6ccd8-f89c-4c5f-db6c-7c22347f2261"
      },
      "outputs": [
        {
          "data": {
            "application/vnd.jupyter.widget-view+json": {
              "model_id": "e60b84c2cb964867990fe6bfa7d09a05",
              "version_major": 2,
              "version_minor": 0
            },
            "text/plain": [
              "Output()"
            ]
          },
          "metadata": {
            "application/vnd.jupyter.widget-view+json": {
              "colab": {
                "custom_widget_manager": {
                  "url": "https://ssl.gstatic.com/colaboratory-static/widgets/colab-cdn-widget-manager/a8874ba6619b6106/manager.min.js"
                }
              }
            }
          },
          "output_type": "display_data"
        }
      ],
      "source": [
        "output"
      ]
    }
  ],
  "metadata": {
    "colab": {
      "collapsed_sections": [],
      "name": "Notebook_2.ipynb",
      "provenance": []
    },
    "kernelspec": {
      "display_name": "Python 3",
      "name": "python3"
    },
    "language_info": {
      "name": "python"
    }
  },
  "nbformat": 4,
  "nbformat_minor": 0
}